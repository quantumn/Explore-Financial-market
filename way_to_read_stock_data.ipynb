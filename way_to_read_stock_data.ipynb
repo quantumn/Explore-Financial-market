{
 "metadata": {
  "name": "",
  "signature": "sha256:b82538ece6401d25068ca76c5d18f4bac0e8f26ce94d9733bdb5bb908f2b1ccf"
 },
 "nbformat": 3,
 "nbformat_minor": 0,
 "worksheets": [
  {
   "cells": [
    {
     "cell_type": "code",
     "collapsed": false,
     "input": [
      "import QSTK.qstkutil.qsdateutil as du\n",
      "import QSTK.qstkutil.tsutil as tsu\n",
      "import QSTK.qstkutil.DataAccess as da\n",
      "\n"
     ],
     "language": "python",
     "metadata": {},
     "outputs": [],
     "prompt_number": 2
    },
    {
     "cell_type": "code",
     "collapsed": false,
     "input": [
      "import datetime as dt\n",
      "import matplotlib.pyplot as plt\n",
      "import pandas as pd\n"
     ],
     "language": "python",
     "metadata": {},
     "outputs": [],
     "prompt_number": 3
    },
    {
     "cell_type": "code",
     "collapsed": false,
     "input": [
      "ls_symbols = [\"AAPL\", \"GLD\", \"GOOG\", \"$SPX\", \"XOM\"]\n",
      "dt_start = dt.datetime(2006, 1, 1)\n",
      "dt_end = dt.datetime(2010, 12, 31)\n",
      "dt_timeofday = dt.timedelta(hours=16)\n",
      "ldt_timestamps = du.getNYSEdays(dt_start, dt_end, dt_timeofday)"
     ],
     "language": "python",
     "metadata": {},
     "outputs": [],
     "prompt_number": 4
    },
    {
     "cell_type": "code",
     "collapsed": false,
     "input": [
      "c_dataobj = da.DataAccess('Yahoo')\n",
      "ls_keys = ['open', 'high', 'low', 'close', 'volume', 'actual_close']\n",
      "ldf_data = c_dataobj.get_data(ldt_timestamps, ls_symbols, ls_keys)\n",
      "d_data = dict(zip(ls_keys, ldf_data))"
     ],
     "language": "python",
     "metadata": {},
     "outputs": [],
     "prompt_number": 5
    },
    {
     "cell_type": "code",
     "collapsed": false,
     "input": [
      "na_price = d_data['close'].values\n",
      "plt.clf()\n",
      "plt.plot(ldt_timestamps, na_price)\n",
      "plt.legend(ls_symbols)\n",
      "plt.ylabel('Adjusted Close')\n",
      "plt.xlabel('Date')\n",
      "plt.show()"
     ],
     "language": "python",
     "metadata": {},
     "outputs": [],
     "prompt_number": 6
    },
    {
     "cell_type": "code",
     "collapsed": false,
     "input": [
      "na_normalized_price = na_price / na_price[0, :]"
     ],
     "language": "python",
     "metadata": {},
     "outputs": [],
     "prompt_number": 7
    },
    {
     "cell_type": "code",
     "collapsed": false,
     "input": [
      "plt.plot(na_normalized_price)\n",
      "plt.show()"
     ],
     "language": "python",
     "metadata": {},
     "outputs": [],
     "prompt_number": 8
    },
    {
     "cell_type": "code",
     "collapsed": false,
     "input": [
      "\n",
      "na_rets = na_normalized_price.copy()\n",
      "tsu.returnize0(na_rets)"
     ],
     "language": "python",
     "metadata": {},
     "outputs": [
      {
       "metadata": {},
       "output_type": "pyout",
       "prompt_number": 9,
       "text": [
        "array([[  0.00000000e+00,   0.00000000e+00,   0.00000000e+00,\n",
        "          0.00000000e+00,   0.00000000e+00],\n",
        "       [  2.95579739e-03,   3.38855422e-03,   2.29993337e-02,\n",
        "          3.67276166e-03,   1.78323757e-03],\n",
        "       [ -7.90354990e-03,  -1.80112570e-02,   1.34758782e-02,\n",
        "          1.57052440e-05,  -4.94462025e-03],\n",
        "       ..., \n",
        "       [  2.44362647e-03,   1.62938824e-02,  -5.74388260e-03,\n",
        "          7.71347233e-04,   5.57222460e-03],\n",
        "       [ -5.55418415e-04,   3.57090803e-03,   3.47291792e-03,\n",
        "          1.00912984e-03,  -5.68343279e-04],\n",
        "       [ -5.00154369e-03,  -4.93791301e-03,  -3.56073211e-03,\n",
        "         -1.50819984e-03,  -1.42166619e-04]])"
       ]
      }
     ],
     "prompt_number": 9
    },
    {
     "cell_type": "code",
     "collapsed": false,
     "input": [
      "plt.plot(na_rets)\n",
      "plt.show()"
     ],
     "language": "python",
     "metadata": {},
     "outputs": [],
     "prompt_number": 10
    },
    {
     "cell_type": "code",
     "collapsed": false,
     "input": [
      "dailyrets = (pricedat[1:,:]/pricedat[0:-1,:]) - 1"
     ],
     "language": "python",
     "metadata": {},
     "outputs": [
      {
       "ename": "NameError",
       "evalue": "name 'pricedat' is not defined",
       "output_type": "pyerr",
       "traceback": [
        "\u001b[0;31m---------------------------------------------------------------------------\u001b[0m\n\u001b[0;31mNameError\u001b[0m                                 Traceback (most recent call last)",
        "\u001b[0;32m<ipython-input-11-55858e437555>\u001b[0m in \u001b[0;36m<module>\u001b[0;34m()\u001b[0m\n\u001b[0;32m----> 1\u001b[0;31m \u001b[0mdailyrets\u001b[0m \u001b[0;34m=\u001b[0m \u001b[0;34m(\u001b[0m\u001b[0mpricedat\u001b[0m\u001b[0;34m[\u001b[0m\u001b[0;36m1\u001b[0m\u001b[0;34m:\u001b[0m\u001b[0;34m,\u001b[0m\u001b[0;34m:\u001b[0m\u001b[0;34m]\u001b[0m\u001b[0;34m/\u001b[0m\u001b[0mpricedat\u001b[0m\u001b[0;34m[\u001b[0m\u001b[0;36m0\u001b[0m\u001b[0;34m:\u001b[0m\u001b[0;34m-\u001b[0m\u001b[0;36m1\u001b[0m\u001b[0;34m,\u001b[0m\u001b[0;34m:\u001b[0m\u001b[0;34m]\u001b[0m\u001b[0;34m)\u001b[0m \u001b[0;34m-\u001b[0m \u001b[0;36m1\u001b[0m\u001b[0;34m\u001b[0m\u001b[0m\n\u001b[0m",
        "\u001b[0;31mNameError\u001b[0m: name 'pricedat' is not defined"
       ]
      }
     ],
     "prompt_number": 11
    },
    {
     "cell_type": "code",
     "collapsed": false,
     "input": [
      "import numpy as np\n"
     ],
     "language": "python",
     "metadata": {},
     "outputs": [],
     "prompt_number": 13
    },
    {
     "cell_type": "code",
     "collapsed": false,
     "input": [
      "na_data = np.loadtxt('example_data.csv', delimiter=',', skiprows=1)\n",
      "na_price = na_data[:, 3:]\n",
      "na_dates = np.int_(na_data[:, 0:3])\n",
      "ls_symbols = ['$SPX', 'XOM', 'GOOG', 'GLD']"
     ],
     "language": "python",
     "metadata": {},
     "outputs": [],
     "prompt_number": 15
    },
    {
     "cell_type": "code",
     "collapsed": false,
     "input": [
      " print \"First 5 rows of Price Data:\"\n",
      " print na_price[:5, :]\n",
      " print \"First 5 rows of Dates:\"\n",
      "print na_dates[:5, :]"
     ],
     "language": "python",
     "metadata": {},
     "outputs": [
      {
       "output_type": "stream",
       "stream": "stdout",
       "text": [
        "First 5 rows of Price Data:\n",
        "[[ 137.67   87.81  685.19   84.86]\n",
        " [ 137.6    88.11  685.33   85.57]\n",
        " [ 134.23   86.47  657.     85.13]\n",
        " [ 134.11   85.66  649.25   84.77]\n",
        " [ 131.95   84.56  631.68   86.78]]\n",
        "First 5 rows of Dates:\n",
        "[[2008    1    2]\n",
        " [2008    1    3]\n",
        " [2008    1    4]\n",
        " [2008    1    7]\n",
        " [2008    1    8]]\n"
       ]
      }
     ],
     "prompt_number": 17
    },
    {
     "cell_type": "code",
     "collapsed": false,
     "input": [
      "ldt_timestamps = []\n",
      "for i in range(0, na_dates.shape[0]):\n",
      "     ldt_timestamps.append(dt.date(na_dates[i, 0], na_dates[i, 1], na_dates[i, 2]))"
     ],
     "language": "python",
     "metadata": {},
     "outputs": [],
     "prompt_number": 18
    },
    {
     "cell_type": "code",
     "collapsed": false,
     "input": [
      "plt.clf()\n",
      "plt.plot(ldt_timestamps, na_price)\n",
      "plt.legend(ls_symbols)\n",
      "plt.ylabel('Adjusted Close')\n",
      "plt.xlabel('Date')\n",
      "plt.show()\n",
      "plt.savefig('adjustedclose.pdf', format='pdf')"
     ],
     "language": "python",
     "metadata": {},
     "outputs": [],
     "prompt_number": 19
    },
    {
     "cell_type": "code",
     "collapsed": false,
     "input": [
      "import QSTK.qstkutil.qsdateutil as du\n",
      "import QSTK.qstkutil.tsutil as tsu\n",
      "import QSTK.qstkutil.DataAccess as da\n",
      "import datetime as dt\n",
      "import matplotlib.pyplot as plt\n",
      "import pandas as pd\n",
      "import numpy as np"
     ],
     "language": "python",
     "metadata": {},
     "outputs": [],
     "prompt_number": 20
    },
    {
     "cell_type": "code",
     "collapsed": false,
     "input": [],
     "language": "python",
     "metadata": {},
     "outputs": []
    }
   ],
   "metadata": {}
  }
 ]
}